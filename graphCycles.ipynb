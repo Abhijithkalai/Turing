{
  "nbformat": 4,
  "nbformat_minor": 0,
  "metadata": {
    "colab": {
      "provenance": [],
      "authorship_tag": "ABX9TyO9PLpum9F6va7d3H5PqihT",
      "include_colab_link": true
    },
    "kernelspec": {
      "name": "python3",
      "display_name": "Python 3"
    },
    "language_info": {
      "name": "python"
    }
  },
  "cells": [
    {
      "cell_type": "markdown",
      "metadata": {
        "id": "view-in-github",
        "colab_type": "text"
      },
      "source": [
        "<a href=\"https://colab.research.google.com/github/Abhijithkalai/Turing/blob/main/graphCycles.ipynb\" target=\"_parent\"><img src=\"https://colab.research.google.com/assets/colab-badge.svg\" alt=\"Open In Colab\"/></a>"
      ]
    },
    {
      "cell_type": "markdown",
      "source": [
        "Prompt"
      ],
      "metadata": {
        "id": "oar8PEpYNkOd"
      }
    },
    {
      "cell_type": "code",
      "execution_count": 3,
      "metadata": {
        "id": "YLC84GgATpXj"
      },
      "outputs": [],
      "source": [
        "prompt = \"\"\"\n",
        "\n",
        "You are given an undirected graph represented as an adjacency list. The graph may contain cycles.\n",
        "\n",
        "Implement a function that efficiently finds the minimum number of edges that need to be removed to make the graph acyclic.\n",
        "\n",
        "Constraints:\n",
        "* The graph can have up to 10^5 nodes and 10^5 edges.\n",
        "* The graph may be dense or sparse.\n",
        "* The solution must have a time complexity of O(V + E) or better, where V is the number of vertices and E is the number of edges.\n",
        "\n",
        "Function signature should look like this\n",
        "` int findMinEdgesToRemove(const vector<vector<int>>& adjList); `\n",
        "\n",
        "\"\"\""
      ]
    },
    {
      "cell_type": "markdown",
      "source": [
        "Canonical Answer"
      ],
      "metadata": {
        "id": "TOEnAlQSNqQ5"
      }
    },
    {
      "cell_type": "code",
      "source": [],
      "metadata": {
        "id": "7zZS-4z3Mq1s"
      },
      "execution_count": null,
      "outputs": []
    },
    {
      "cell_type": "markdown",
      "source": [
        "Test cases"
      ],
      "metadata": {
        "id": "EuowPLcENsOe"
      }
    },
    {
      "cell_type": "code",
      "source": [
        "tests = \"\"\"\n",
        "#include \"gtest/gtest.h\"\n",
        "#include \"graph.h\" // Assuming you have a Graph class implementation\n",
        "\n",
        "// Test cases for findMinEdgesToRemove() function\n",
        "\n",
        "TEST(GraphTest, EmptyGraph) {\n",
        "  vector<vector<int>> adjList;\n",
        "  int minEdges = findMinEdgesToRemove(adjList);\n",
        "  EXPECT_EQ(minEdges, 0);\n",
        "}\n",
        "\n",
        "TEST(GraphTest, NoCycles) {\n",
        "  vector<vector<int>> adjList = {{1}, {0, 2}, {1}}; // Simple linear graph\n",
        "  int minEdges = findMinEdgesToRemove(adjList);\n",
        "  EXPECT_EQ(minEdges, 0);\n",
        "}\n",
        "\n",
        "TEST(GraphTest, SingleCycle) {\n",
        "  vector<vector<int>> adjList = {{1}, {0, 2}, {1}}; // Simple cycle\n",
        "  int minEdges = findMinEdgesToRemove(adjList);\n",
        "  EXPECT_EQ(minEdges, 1);\n",
        "}\n",
        "\n",
        "TEST(GraphTest, MultipleCycles) {\n",
        "  vector<vector<int>> adjList = {{1, 2}, {0, 2}, {0, 1}}; // Two cycles\n",
        "  int minEdges = findMinEdgesToRemove(adjList);\n",
        "  EXPECT_EQ(minEdges, 2);\n",
        "}\n",
        "\n",
        "TEST(GraphTest, DisconnectedGraph) {\n",
        "  vector<vector<int>> adjList = {{1}, {0}, {3}, {2}}; // Two disconnected components\n",
        "  int minEdges = findMinEdgesToRemove(adjList);\n",
        "  EXPECT_EQ(minEdges, 0);\n",
        "}\n",
        "\n",
        "TEST(GraphTest, LargeGraphNoCycles) {\n",
        "  // Create a large graph with no cycles (e.g., a tree)\n",
        "  // ... (Implementation of large graph creation)\n",
        "  int minEdges = findMinEdgesToRemove(adjList);\n",
        "  EXPECT_EQ(minEdges, 0);\n",
        "}\n",
        "\n",
        "TEST(GraphTest, LargeGraphSingleCycle) {\n",
        "  // Create a large graph with a single cycle\n",
        "  // ... (Implementation of large graph creation)\n",
        "  int minEdges = findMinEdgesToRemove(adjList);\n",
        "  EXPECT_EQ(minEdges, 1);\n",
        "}\n",
        "\n",
        "TEST(GraphTest, LargeGraphMultipleCycles) {\n",
        "  // Create a large graph with multiple cycles\n",
        "  // ... (Implementation of large graph creation)\n",
        "  int minEdges = findMinEdgesToRemove(adjList);\n",
        "  // Assert expected number of edges to remove (may require manual calculation)\n",
        "}\n",
        "\n",
        "TEST(GraphTest, DenseGraphNoCycles) {\n",
        "  // Create a dense graph with no cycles\n",
        "  // ... (Implementation of dense graph creation)\n",
        "  int minEdges = findMinEdgesToRemove(adjList);\n",
        "  EXPECT_EQ(minEdges, 0);\n",
        "}\n",
        "\n",
        "TEST(GraphTest, DenseGraphSingleCycle) {\n",
        "  // Create a dense graph with a single cycle\n",
        "  // ... (Implementation of dense graph creation)\n",
        "  int minEdges = findMinEdgesToRemove(adjList);\n",
        "  EXPECT_EQ(minEdges, 1);\n",
        "}\n",
        "\"\"\"\n"
      ],
      "metadata": {
        "id": "FA2Bm9NTMr9D"
      },
      "execution_count": 4,
      "outputs": []
    },
    {
      "cell_type": "markdown",
      "source": [],
      "metadata": {
        "id": "bCkVZCNJNeme"
      }
    },
    {
      "cell_type": "markdown",
      "source": [
        "Install Gtest Framework"
      ],
      "metadata": {
        "id": "Z_78w87gNVWc"
      }
    },
    {
      "cell_type": "code",
      "source": [
        "%%script bash\n",
        "apt-get install libgtest-dev"
      ],
      "metadata": {
        "colab": {
          "base_uri": "https://localhost:8080/"
        },
        "id": "XeFZTnvzNXE1",
        "outputId": "248b41bb-1e45-40d1-a0bf-fbc5f79b6bcd"
      },
      "execution_count": 5,
      "outputs": [
        {
          "output_type": "stream",
          "name": "stdout",
          "text": [
            "Reading package lists...\n",
            "Building dependency tree...\n",
            "Reading state information...\n",
            "The following additional packages will be installed:\n",
            "  googletest\n",
            "The following NEW packages will be installed:\n",
            "  googletest libgtest-dev\n",
            "0 upgraded, 2 newly installed, 0 to remove and 49 not upgraded.\n",
            "Need to get 792 kB of archives.\n",
            "After this operation, 5,156 kB of additional disk space will be used.\n",
            "Get:1 http://archive.ubuntu.com/ubuntu jammy/universe amd64 googletest all 1.11.0-3 [541 kB]\n",
            "Get:2 http://archive.ubuntu.com/ubuntu jammy/universe amd64 libgtest-dev amd64 1.11.0-3 [250 kB]\n",
            "Fetched 792 kB in 2s (359 kB/s)\n",
            "Selecting previously unselected package googletest.\r\n",
            "(Reading database ... \r(Reading database ... 5%\r(Reading database ... 10%\r(Reading database ... 15%\r(Reading database ... 20%\r(Reading database ... 25%\r(Reading database ... 30%\r(Reading database ... 35%\r(Reading database ... 40%\r(Reading database ... 45%\r(Reading database ... 50%\r(Reading database ... 55%\r(Reading database ... 60%\r(Reading database ... 65%\r(Reading database ... 70%\r(Reading database ... 75%\r(Reading database ... 80%\r(Reading database ... 85%\r(Reading database ... 90%\r(Reading database ... 95%\r(Reading database ... 100%\r(Reading database ... 124788 files and directories currently installed.)\r\n",
            "Preparing to unpack .../googletest_1.11.0-3_all.deb ...\r\n",
            "Unpacking googletest (1.11.0-3) ...\r\n",
            "Selecting previously unselected package libgtest-dev:amd64.\r\n",
            "Preparing to unpack .../libgtest-dev_1.11.0-3_amd64.deb ...\r\n",
            "Unpacking libgtest-dev:amd64 (1.11.0-3) ...\r\n",
            "Setting up googletest (1.11.0-3) ...\r\n",
            "Setting up libgtest-dev:amd64 (1.11.0-3) ...\r\n"
          ]
        }
      ]
    },
    {
      "cell_type": "code",
      "source": [],
      "metadata": {
        "id": "if1swXybM9y0"
      },
      "execution_count": 5,
      "outputs": []
    }
  ]
}